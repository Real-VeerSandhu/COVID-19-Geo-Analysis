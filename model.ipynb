{
 "metadata": {
  "language_info": {
   "codemirror_mode": {
    "name": "ipython",
    "version": 3
   },
   "file_extension": ".py",
   "mimetype": "text/x-python",
   "name": "python",
   "nbconvert_exporter": "python",
   "pygments_lexer": "ipython3",
   "version": "3.6.12"
  },
  "orig_nbformat": 4,
  "kernelspec": {
   "name": "python3",
   "display_name": "Python 3.6.12 64-bit ('env0': conda)"
  },
  "interpreter": {
   "hash": "fefd83eafc0c2f3c8796de3f6632c2698dc12eafcdd46e5a8c965eb3d21b0b49"
  }
 },
 "nbformat": 4,
 "nbformat_minor": 2,
 "cells": [
  {
   "cell_type": "code",
   "execution_count": 1,
   "metadata": {},
   "outputs": [],
   "source": [
    "import pandas as pd\n",
    "import numpy as np"
   ]
  },
  {
   "cell_type": "code",
   "execution_count": 5,
   "metadata": {},
   "outputs": [],
   "source": [
    "country_wise = pd.read_csv('D:/ML_Data/SCIFAA_COVID/country_wise_latest.csv')\n",
    "clean_complete = pd.read_csv('D:/ML_Data/SCIFAA_COVID/covid_19_clean_complete.csv')\n",
    "\n",
    "clean_complete = clean_complete.drop(columns='Province/State')"
   ]
  },
  {
   "cell_type": "code",
   "execution_count": 6,
   "metadata": {},
   "outputs": [
    {
     "output_type": "execute_result",
     "data": {
      "text/plain": [
       "         Country/Region  Confirmed  Deaths  Recovered  Active  New cases  \\\n",
       "0           Afghanistan      36263    1269      25198    9796        106   \n",
       "1               Albania       4880     144       2745    1991        117   \n",
       "2               Algeria      27973    1163      18837    7973        616   \n",
       "3               Andorra        907      52        803      52         10   \n",
       "4                Angola        950      41        242     667         18   \n",
       "..                  ...        ...     ...        ...     ...        ...   \n",
       "182  West Bank and Gaza      10621      78       3752    6791        152   \n",
       "183      Western Sahara         10       1          8       1          0   \n",
       "184               Yemen       1691     483        833     375         10   \n",
       "185              Zambia       4552     140       2815    1597         71   \n",
       "186            Zimbabwe       2704      36        542    2126        192   \n",
       "\n",
       "     New deaths  New recovered  Deaths / 100 Cases  Recovered / 100 Cases  \\\n",
       "0            10             18                3.50                  69.49   \n",
       "1             6             63                2.95                  56.25   \n",
       "2             8            749                4.16                  67.34   \n",
       "3             0              0                5.73                  88.53   \n",
       "4             1              0                4.32                  25.47   \n",
       "..          ...            ...                 ...                    ...   \n",
       "182           2              0                0.73                  35.33   \n",
       "183           0              0               10.00                  80.00   \n",
       "184           4             36               28.56                  49.26   \n",
       "185           1            465                3.08                  61.84   \n",
       "186           2             24                1.33                  20.04   \n",
       "\n",
       "     Deaths / 100 Recovered  Confirmed last week  1 week change  \\\n",
       "0                      5.04                35526            737   \n",
       "1                      5.25                 4171            709   \n",
       "2                      6.17                23691           4282   \n",
       "3                      6.48                  884             23   \n",
       "4                     16.94                  749            201   \n",
       "..                      ...                  ...            ...   \n",
       "182                    2.08                 8916           1705   \n",
       "183                   12.50                   10              0   \n",
       "184                   57.98                 1619             72   \n",
       "185                    4.97                 3326           1226   \n",
       "186                    6.64                 1713            991   \n",
       "\n",
       "     1 week % increase             WHO Region  \n",
       "0                 2.07  Eastern Mediterranean  \n",
       "1                17.00                 Europe  \n",
       "2                18.07                 Africa  \n",
       "3                 2.60                 Europe  \n",
       "4                26.84                 Africa  \n",
       "..                 ...                    ...  \n",
       "182              19.12  Eastern Mediterranean  \n",
       "183               0.00                 Africa  \n",
       "184               4.45  Eastern Mediterranean  \n",
       "185              36.86                 Africa  \n",
       "186              57.85                 Africa  \n",
       "\n",
       "[187 rows x 15 columns]"
      ],
      "text/html": "<div>\n<style scoped>\n    .dataframe tbody tr th:only-of-type {\n        vertical-align: middle;\n    }\n\n    .dataframe tbody tr th {\n        vertical-align: top;\n    }\n\n    .dataframe thead th {\n        text-align: right;\n    }\n</style>\n<table border=\"1\" class=\"dataframe\">\n  <thead>\n    <tr style=\"text-align: right;\">\n      <th></th>\n      <th>Country/Region</th>\n      <th>Confirmed</th>\n      <th>Deaths</th>\n      <th>Recovered</th>\n      <th>Active</th>\n      <th>New cases</th>\n      <th>New deaths</th>\n      <th>New recovered</th>\n      <th>Deaths / 100 Cases</th>\n      <th>Recovered / 100 Cases</th>\n      <th>Deaths / 100 Recovered</th>\n      <th>Confirmed last week</th>\n      <th>1 week change</th>\n      <th>1 week % increase</th>\n      <th>WHO Region</th>\n    </tr>\n  </thead>\n  <tbody>\n    <tr>\n      <th>0</th>\n      <td>Afghanistan</td>\n      <td>36263</td>\n      <td>1269</td>\n      <td>25198</td>\n      <td>9796</td>\n      <td>106</td>\n      <td>10</td>\n      <td>18</td>\n      <td>3.50</td>\n      <td>69.49</td>\n      <td>5.04</td>\n      <td>35526</td>\n      <td>737</td>\n      <td>2.07</td>\n      <td>Eastern Mediterranean</td>\n    </tr>\n    <tr>\n      <th>1</th>\n      <td>Albania</td>\n      <td>4880</td>\n      <td>144</td>\n      <td>2745</td>\n      <td>1991</td>\n      <td>117</td>\n      <td>6</td>\n      <td>63</td>\n      <td>2.95</td>\n      <td>56.25</td>\n      <td>5.25</td>\n      <td>4171</td>\n      <td>709</td>\n      <td>17.00</td>\n      <td>Europe</td>\n    </tr>\n    <tr>\n      <th>2</th>\n      <td>Algeria</td>\n      <td>27973</td>\n      <td>1163</td>\n      <td>18837</td>\n      <td>7973</td>\n      <td>616</td>\n      <td>8</td>\n      <td>749</td>\n      <td>4.16</td>\n      <td>67.34</td>\n      <td>6.17</td>\n      <td>23691</td>\n      <td>4282</td>\n      <td>18.07</td>\n      <td>Africa</td>\n    </tr>\n    <tr>\n      <th>3</th>\n      <td>Andorra</td>\n      <td>907</td>\n      <td>52</td>\n      <td>803</td>\n      <td>52</td>\n      <td>10</td>\n      <td>0</td>\n      <td>0</td>\n      <td>5.73</td>\n      <td>88.53</td>\n      <td>6.48</td>\n      <td>884</td>\n      <td>23</td>\n      <td>2.60</td>\n      <td>Europe</td>\n    </tr>\n    <tr>\n      <th>4</th>\n      <td>Angola</td>\n      <td>950</td>\n      <td>41</td>\n      <td>242</td>\n      <td>667</td>\n      <td>18</td>\n      <td>1</td>\n      <td>0</td>\n      <td>4.32</td>\n      <td>25.47</td>\n      <td>16.94</td>\n      <td>749</td>\n      <td>201</td>\n      <td>26.84</td>\n      <td>Africa</td>\n    </tr>\n    <tr>\n      <th>...</th>\n      <td>...</td>\n      <td>...</td>\n      <td>...</td>\n      <td>...</td>\n      <td>...</td>\n      <td>...</td>\n      <td>...</td>\n      <td>...</td>\n      <td>...</td>\n      <td>...</td>\n      <td>...</td>\n      <td>...</td>\n      <td>...</td>\n      <td>...</td>\n      <td>...</td>\n    </tr>\n    <tr>\n      <th>182</th>\n      <td>West Bank and Gaza</td>\n      <td>10621</td>\n      <td>78</td>\n      <td>3752</td>\n      <td>6791</td>\n      <td>152</td>\n      <td>2</td>\n      <td>0</td>\n      <td>0.73</td>\n      <td>35.33</td>\n      <td>2.08</td>\n      <td>8916</td>\n      <td>1705</td>\n      <td>19.12</td>\n      <td>Eastern Mediterranean</td>\n    </tr>\n    <tr>\n      <th>183</th>\n      <td>Western Sahara</td>\n      <td>10</td>\n      <td>1</td>\n      <td>8</td>\n      <td>1</td>\n      <td>0</td>\n      <td>0</td>\n      <td>0</td>\n      <td>10.00</td>\n      <td>80.00</td>\n      <td>12.50</td>\n      <td>10</td>\n      <td>0</td>\n      <td>0.00</td>\n      <td>Africa</td>\n    </tr>\n    <tr>\n      <th>184</th>\n      <td>Yemen</td>\n      <td>1691</td>\n      <td>483</td>\n      <td>833</td>\n      <td>375</td>\n      <td>10</td>\n      <td>4</td>\n      <td>36</td>\n      <td>28.56</td>\n      <td>49.26</td>\n      <td>57.98</td>\n      <td>1619</td>\n      <td>72</td>\n      <td>4.45</td>\n      <td>Eastern Mediterranean</td>\n    </tr>\n    <tr>\n      <th>185</th>\n      <td>Zambia</td>\n      <td>4552</td>\n      <td>140</td>\n      <td>2815</td>\n      <td>1597</td>\n      <td>71</td>\n      <td>1</td>\n      <td>465</td>\n      <td>3.08</td>\n      <td>61.84</td>\n      <td>4.97</td>\n      <td>3326</td>\n      <td>1226</td>\n      <td>36.86</td>\n      <td>Africa</td>\n    </tr>\n    <tr>\n      <th>186</th>\n      <td>Zimbabwe</td>\n      <td>2704</td>\n      <td>36</td>\n      <td>542</td>\n      <td>2126</td>\n      <td>192</td>\n      <td>2</td>\n      <td>24</td>\n      <td>1.33</td>\n      <td>20.04</td>\n      <td>6.64</td>\n      <td>1713</td>\n      <td>991</td>\n      <td>57.85</td>\n      <td>Africa</td>\n    </tr>\n  </tbody>\n</table>\n<p>187 rows × 15 columns</p>\n</div>"
     },
     "metadata": {},
     "execution_count": 6
    }
   ],
   "source": [
    "country_wise"
   ]
  },
  {
   "cell_type": "code",
   "execution_count": 7,
   "metadata": {},
   "outputs": [
    {
     "output_type": "execute_result",
     "data": {
      "text/plain": [
       "              Country/Region        Lat       Long        Date  Confirmed  \\\n",
       "0                Afghanistan  33.939110  67.709953  2020-01-22          0   \n",
       "1                    Albania  41.153300  20.168300  2020-01-22          0   \n",
       "2                    Algeria  28.033900   1.659600  2020-01-22          0   \n",
       "3                    Andorra  42.506300   1.521800  2020-01-22          0   \n",
       "4                     Angola -11.202700  17.873900  2020-01-22          0   \n",
       "...                      ...        ...        ...         ...        ...   \n",
       "49063  Sao Tome and Principe   0.186400   6.613100  2020-07-27        865   \n",
       "49064                  Yemen  15.552727  48.516388  2020-07-27       1691   \n",
       "49065                Comoros -11.645500  43.333300  2020-07-27        354   \n",
       "49066             Tajikistan  38.861000  71.276100  2020-07-27       7235   \n",
       "49067                Lesotho -29.610000  28.233600  2020-07-27        505   \n",
       "\n",
       "       Deaths  Recovered  Active             WHO Region  \n",
       "0           0          0       0  Eastern Mediterranean  \n",
       "1           0          0       0                 Europe  \n",
       "2           0          0       0                 Africa  \n",
       "3           0          0       0                 Europe  \n",
       "4           0          0       0                 Africa  \n",
       "...       ...        ...     ...                    ...  \n",
       "49063      14        734     117                 Africa  \n",
       "49064     483        833     375  Eastern Mediterranean  \n",
       "49065       7        328      19                 Africa  \n",
       "49066      60       6028    1147                 Europe  \n",
       "49067      12        128     365                 Africa  \n",
       "\n",
       "[49068 rows x 9 columns]"
      ],
      "text/html": "<div>\n<style scoped>\n    .dataframe tbody tr th:only-of-type {\n        vertical-align: middle;\n    }\n\n    .dataframe tbody tr th {\n        vertical-align: top;\n    }\n\n    .dataframe thead th {\n        text-align: right;\n    }\n</style>\n<table border=\"1\" class=\"dataframe\">\n  <thead>\n    <tr style=\"text-align: right;\">\n      <th></th>\n      <th>Country/Region</th>\n      <th>Lat</th>\n      <th>Long</th>\n      <th>Date</th>\n      <th>Confirmed</th>\n      <th>Deaths</th>\n      <th>Recovered</th>\n      <th>Active</th>\n      <th>WHO Region</th>\n    </tr>\n  </thead>\n  <tbody>\n    <tr>\n      <th>0</th>\n      <td>Afghanistan</td>\n      <td>33.939110</td>\n      <td>67.709953</td>\n      <td>2020-01-22</td>\n      <td>0</td>\n      <td>0</td>\n      <td>0</td>\n      <td>0</td>\n      <td>Eastern Mediterranean</td>\n    </tr>\n    <tr>\n      <th>1</th>\n      <td>Albania</td>\n      <td>41.153300</td>\n      <td>20.168300</td>\n      <td>2020-01-22</td>\n      <td>0</td>\n      <td>0</td>\n      <td>0</td>\n      <td>0</td>\n      <td>Europe</td>\n    </tr>\n    <tr>\n      <th>2</th>\n      <td>Algeria</td>\n      <td>28.033900</td>\n      <td>1.659600</td>\n      <td>2020-01-22</td>\n      <td>0</td>\n      <td>0</td>\n      <td>0</td>\n      <td>0</td>\n      <td>Africa</td>\n    </tr>\n    <tr>\n      <th>3</th>\n      <td>Andorra</td>\n      <td>42.506300</td>\n      <td>1.521800</td>\n      <td>2020-01-22</td>\n      <td>0</td>\n      <td>0</td>\n      <td>0</td>\n      <td>0</td>\n      <td>Europe</td>\n    </tr>\n    <tr>\n      <th>4</th>\n      <td>Angola</td>\n      <td>-11.202700</td>\n      <td>17.873900</td>\n      <td>2020-01-22</td>\n      <td>0</td>\n      <td>0</td>\n      <td>0</td>\n      <td>0</td>\n      <td>Africa</td>\n    </tr>\n    <tr>\n      <th>...</th>\n      <td>...</td>\n      <td>...</td>\n      <td>...</td>\n      <td>...</td>\n      <td>...</td>\n      <td>...</td>\n      <td>...</td>\n      <td>...</td>\n      <td>...</td>\n    </tr>\n    <tr>\n      <th>49063</th>\n      <td>Sao Tome and Principe</td>\n      <td>0.186400</td>\n      <td>6.613100</td>\n      <td>2020-07-27</td>\n      <td>865</td>\n      <td>14</td>\n      <td>734</td>\n      <td>117</td>\n      <td>Africa</td>\n    </tr>\n    <tr>\n      <th>49064</th>\n      <td>Yemen</td>\n      <td>15.552727</td>\n      <td>48.516388</td>\n      <td>2020-07-27</td>\n      <td>1691</td>\n      <td>483</td>\n      <td>833</td>\n      <td>375</td>\n      <td>Eastern Mediterranean</td>\n    </tr>\n    <tr>\n      <th>49065</th>\n      <td>Comoros</td>\n      <td>-11.645500</td>\n      <td>43.333300</td>\n      <td>2020-07-27</td>\n      <td>354</td>\n      <td>7</td>\n      <td>328</td>\n      <td>19</td>\n      <td>Africa</td>\n    </tr>\n    <tr>\n      <th>49066</th>\n      <td>Tajikistan</td>\n      <td>38.861000</td>\n      <td>71.276100</td>\n      <td>2020-07-27</td>\n      <td>7235</td>\n      <td>60</td>\n      <td>6028</td>\n      <td>1147</td>\n      <td>Europe</td>\n    </tr>\n    <tr>\n      <th>49067</th>\n      <td>Lesotho</td>\n      <td>-29.610000</td>\n      <td>28.233600</td>\n      <td>2020-07-27</td>\n      <td>505</td>\n      <td>12</td>\n      <td>128</td>\n      <td>365</td>\n      <td>Africa</td>\n    </tr>\n  </tbody>\n</table>\n<p>49068 rows × 9 columns</p>\n</div>"
     },
     "metadata": {},
     "execution_count": 7
    }
   ],
   "source": [
    "clean_complete"
   ]
  },
  {
   "cell_type": "code",
   "execution_count": 22,
   "metadata": {},
   "outputs": [],
   "source": [
    "location_data = pd.DataFrame([clean_complete['Lat'], clean_complete['Long']])"
   ]
  },
  {
   "cell_type": "code",
   "execution_count": 23,
   "metadata": {},
   "outputs": [
    {
     "output_type": "execute_result",
     "data": {
      "text/plain": [
       "          0        1        2        3        4        5        6      \\\n",
       "Lat   33.939110  41.1533  28.0339  42.5063 -11.2027  17.0608 -38.4161   \n",
       "Long  67.709953  20.1683   1.6596   1.5218  17.8739 -61.7964 -63.6167   \n",
       "\n",
       "        7         8         9      ...    49058    49059    49060   49061  \\\n",
       "Lat   40.0691  -35.4735  -33.8688  ... -13.2543 -51.7963  46.8852   6.877   \n",
       "Long  45.0382  149.0124  151.2093  ...  34.3015 -59.5236 -56.3159  31.307   \n",
       "\n",
       "        49062   49063      49064    49065    49066    49067  \n",
       "Lat   24.2155  0.1864  15.552727 -11.6455  38.8610 -29.6100  \n",
       "Long -12.8858  6.6131  48.516388  43.3333  71.2761  28.2336  \n",
       "\n",
       "[2 rows x 49068 columns]"
      ],
      "text/html": "<div>\n<style scoped>\n    .dataframe tbody tr th:only-of-type {\n        vertical-align: middle;\n    }\n\n    .dataframe tbody tr th {\n        vertical-align: top;\n    }\n\n    .dataframe thead th {\n        text-align: right;\n    }\n</style>\n<table border=\"1\" class=\"dataframe\">\n  <thead>\n    <tr style=\"text-align: right;\">\n      <th></th>\n      <th>0</th>\n      <th>1</th>\n      <th>2</th>\n      <th>3</th>\n      <th>4</th>\n      <th>5</th>\n      <th>6</th>\n      <th>7</th>\n      <th>8</th>\n      <th>9</th>\n      <th>...</th>\n      <th>49058</th>\n      <th>49059</th>\n      <th>49060</th>\n      <th>49061</th>\n      <th>49062</th>\n      <th>49063</th>\n      <th>49064</th>\n      <th>49065</th>\n      <th>49066</th>\n      <th>49067</th>\n    </tr>\n  </thead>\n  <tbody>\n    <tr>\n      <th>Lat</th>\n      <td>33.939110</td>\n      <td>41.1533</td>\n      <td>28.0339</td>\n      <td>42.5063</td>\n      <td>-11.2027</td>\n      <td>17.0608</td>\n      <td>-38.4161</td>\n      <td>40.0691</td>\n      <td>-35.4735</td>\n      <td>-33.8688</td>\n      <td>...</td>\n      <td>-13.2543</td>\n      <td>-51.7963</td>\n      <td>46.8852</td>\n      <td>6.877</td>\n      <td>24.2155</td>\n      <td>0.1864</td>\n      <td>15.552727</td>\n      <td>-11.6455</td>\n      <td>38.8610</td>\n      <td>-29.6100</td>\n    </tr>\n    <tr>\n      <th>Long</th>\n      <td>67.709953</td>\n      <td>20.1683</td>\n      <td>1.6596</td>\n      <td>1.5218</td>\n      <td>17.8739</td>\n      <td>-61.7964</td>\n      <td>-63.6167</td>\n      <td>45.0382</td>\n      <td>149.0124</td>\n      <td>151.2093</td>\n      <td>...</td>\n      <td>34.3015</td>\n      <td>-59.5236</td>\n      <td>-56.3159</td>\n      <td>31.307</td>\n      <td>-12.8858</td>\n      <td>6.6131</td>\n      <td>48.516388</td>\n      <td>43.3333</td>\n      <td>71.2761</td>\n      <td>28.2336</td>\n    </tr>\n  </tbody>\n</table>\n<p>2 rows × 49068 columns</p>\n</div>"
     },
     "metadata": {},
     "execution_count": 23
    }
   ],
   "source": [
    "location_data"
   ]
  },
  {
   "cell_type": "code",
   "execution_count": 24,
   "metadata": {},
   "outputs": [
    {
     "output_type": "execute_result",
     "data": {
      "text/plain": [
       "0                  Afghanistan\n",
       "1                      Albania\n",
       "2                      Algeria\n",
       "3                      Andorra\n",
       "4                       Angola\n",
       "                 ...          \n",
       "49063    Sao Tome and Principe\n",
       "49064                    Yemen\n",
       "49065                  Comoros\n",
       "49066               Tajikistan\n",
       "49067                  Lesotho\n",
       "Name: Country/Region, Length: 49068, dtype: object"
      ]
     },
     "metadata": {},
     "execution_count": 24
    }
   ],
   "source": [
    "clean_complete['Country/Region']"
   ]
  },
  {
   "cell_type": "code",
   "execution_count": 25,
   "metadata": {},
   "outputs": [
    {
     "output_type": "execute_result",
     "data": {
      "text/plain": [
       "0             Afghanistan\n",
       "1                 Albania\n",
       "2                 Algeria\n",
       "3                 Andorra\n",
       "4                  Angola\n",
       "              ...        \n",
       "182    West Bank and Gaza\n",
       "183        Western Sahara\n",
       "184                 Yemen\n",
       "185                Zambia\n",
       "186              Zimbabwe\n",
       "Name: Country/Region, Length: 187, dtype: object"
      ]
     },
     "metadata": {},
     "execution_count": 25
    }
   ],
   "source": [
    "country_wise['Country/Region']"
   ]
  },
  {
   "cell_type": "code",
   "execution_count": null,
   "metadata": {},
   "outputs": [],
   "source": []
  }
 ]
}